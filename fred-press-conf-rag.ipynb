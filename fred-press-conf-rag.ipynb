{
 "cells": [
  {
   "cell_type": "markdown",
   "metadata": {},
   "source": [
    "### Set up snowflake\n",
    "\n",
    "Before running this notebook, make sure you have set up your Snowflake database, schema and stages. \n",
    "\n",
    "- Go to your Snowflake UI and create a database called \"RAG_DEMO\". \n",
    "- In that database, create a schema called \"RAG_DEMO_SCHEMA\". \n",
    "- In that schema, create one internal stage called \"UDF\" and one internal stage called \"ACME_EARNINGS\".\n",
    "- Open that stage called \"FED_PRESS_CONF\", click on +files, and load the ACME earnings call PDF into that stage. \n",
    "\n",
    "### Create Conda environment\n",
    "\n",
    "Next we need to create our conda environment.\n",
    "\n",
    "In the terminal, run: \n",
    "\n",
    "1) conda create --name rag-demo --override-channels -c https://repo.anaconda.com/pkgs/snowflake python=3.11\n",
    "2) conda activate rag-demo\n",
    "3) conda install -c https://repo.anaconda.com/pkgs/snowflake snowflake-connector-python snowflake-snowpark-python snowflake-ml-python langchain PyPDF2 io pandas\n",
    "\n"
   ]
  },
  {
   "cell_type": "code",
   "execution_count": null,
   "metadata": {},
   "outputs": [],
   "source": [
    "### Import Libraries\n",
    "import pandas as pd\n",
    "from PyPDF2 import PdfFileReader\n",
    "from snowflake.snowpark.files import SnowflakeFile\n",
    "from io import BytesIO\n",
    "from snowflake.snowpark.types import StringType, StructField, StructType\n",
    "from langchain.text_splitter import RecursiveCharacterTextSplitter\n",
    "\n",
    "\n",
    "from snowflake.snowpark.session import Session\n",
    "import json"
   ]
  },
  {
   "cell_type": "markdown",
   "metadata": {},
   "source": [
    "### Establish Connection to Snowflake\n",
    "\n",
    "Create a text file to hold your Snowflake credentials. I call mine \"creds.json\". \n",
    "\n",
    "It has the following information: \n",
    "\n",
    "{\n",
    "    \"account\": \"your account\",\n",
    "    \"user\": \"your username\",\n",
    "    \"password\": \"your password\",\n",
    "    \"role\": \"ACCOUNTADMIN\",\n",
    "    \"database\" : \"RAG_DEMO\",\n",
    "     \"warehouse\" : \"your warehouse\",\n",
    "    \"schema\": \"RAG_DEMO_SCHEMA\"\n",
    "  }\n"
   ]
  },
  {
   "cell_type": "code",
   "execution_count": null,
   "metadata": {},
   "outputs": [],
   "source": [
    "# Read credentials\n",
    "with open('creds.json') as f:\n",
    "    connection_parameters = json.load(f)\n",
    "# Connect to a snowflake session\n",
    "session = Session.builder.configs(connection_parameters).create()"
   ]
  },
  {
   "cell_type": "markdown",
   "metadata": {},
   "source": [
    "### Create PDF Extract Function using PyPDF2\n",
    "\n",
    "Create a function to extract text from a PDF and store it as characters in a table."
   ]
  },
  {
   "cell_type": "code",
   "execution_count": null,
   "metadata": {},
   "outputs": [],
   "source": [
    "\n",
    "\n",
    "def readpdf(file_path):\n",
    "    whole_text = \"\"\n",
    "    with SnowflakeFile.open(file_path, 'rb') as file:\n",
    "        f = BytesIO(file.readall())\n",
    "        pdf_reader = PdfFileReader(f)\n",
    "        whole_text = \"\"\n",
    "        for page in pdf_reader.pages:\n",
    "            whole_text += page.extract_text()\n",
    "    return whole_text"
   ]
  },
  {
   "cell_type": "code",
   "execution_count": null,
   "metadata": {},
   "outputs": [],
   "source": [
    "### Register Function as User Defined Function\n",
    "\n",
    "session.udf.register(\n",
    "    func = readpdf\n",
    "  , return_type = StringType()\n",
    "  , input_types = [StringType()]\n",
    "  , is_permanent = True\n",
    "  , name = 'SNOWPARK_PDF'\n",
    "  , replace = True\n",
    "  , packages=['snowflake-snowpark-python','pypdf2']\n",
    "  , stage_location = 'RAG_DEMO.RAG_DEMO_SCHEMA.UDF'\n",
    ")"
   ]
  },
  {
   "cell_type": "code",
   "execution_count": null,
   "metadata": {},
   "outputs": [],
   "source": [
    "# Create UDTF For Chunking via Langchain\n",
    "# A class for chunking text and returning a table via UDTF\n",
    "from snowflake.snowpark.types import StringType, StructField, StructType\n",
    "from langchain.text_splitter import RecursiveCharacterTextSplitter\n",
    "\n",
    "class text_chunker:\n",
    "\n",
    "    def process(self,text):        \n",
    "        text_raw=[]\n",
    "        text_raw.append(text) \n",
    "        \n",
    "        text_splitter = RecursiveCharacterTextSplitter(\n",
    "            separators = [\"\\n\"], # Define an appropriate separator. New line is good typically!\n",
    "            chunk_size = 1000, # Adjust this as you see fit\n",
    "            chunk_overlap  = 50, # This let's text have some form of overlap. Useful for keeping chunks contextual\n",
    "            length_function = len,\n",
    "            add_start_index = True # Optional but useful if you'd like to feed the chunk before/after\n",
    "        )\n",
    "    \n",
    "        chunks = text_splitter.create_documents(text_raw)\n",
    "        df = pd.DataFrame(chunks, columns=['chunks','meta'])\n",
    "        \n",
    "        yield from df.itertuples(index=False, name=None)"
   ]
  },
  {
   "cell_type": "code",
   "execution_count": null,
   "metadata": {},
   "outputs": [],
   "source": [
    "### Register the UDTF - set the stage location\n",
    "\n",
    "\n",
    "schema = StructType([\n",
    "     StructField(\"chunk\", StringType()),\n",
    "    StructField(\"meta\", StringType()),\n",
    " ])\n",
    "\n",
    "session.udtf.register( \n",
    "    handler = text_chunker,\n",
    "    output_schema= schema, \n",
    "    input_types = [StringType()] , \n",
    "    is_permanent = True , \n",
    "    name = 'CHUNK_TEXT' , \n",
    "    replace = True , \n",
    "    packages=['pandas','langchain'], stage_location = 'RAG_DEMO.RAG_DEMO_SCHEMA.UDF' )"
   ]
  },
  {
   "cell_type": "markdown",
   "metadata": {},
   "source": [
    "We can now close VSCode and this Python code and head over to Snowflake to run sql in a worksheet."
   ]
  }
 ],
 "metadata": {
  "language_info": {
   "name": "python"
  }
 },
 "nbformat": 4,
 "nbformat_minor": 2
}
